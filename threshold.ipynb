{
 "cells": [
  {
   "cell_type": "code",
   "execution_count": 1,
   "metadata": {},
   "outputs": [
    {
     "name": "stdout",
     "output_type": "stream",
     "text": [
      "<class 'pandas.core.frame.DataFrame'>\n",
      "RangeIndex: 143634 entries, 0 to 143633\n",
      "Data columns (total 5 columns):\n",
      "Unnamed: 0      143634 non-null int64\n",
      "date            143634 non-null object\n",
      "sales_amount    143634 non-null float64\n",
      "item_code       143634 non-null object\n",
      "category        143634 non-null object\n",
      "dtypes: float64(1), int64(1), object(3)\n",
      "memory usage: 5.5+ MB\n"
     ]
    }
   ],
   "source": [
    "#Importing necessary libraries\n",
    "import pandas as pd\n",
    "import numpy as np\n",
    "import matplotlib.pyplot as plt\n",
    "\n",
    "data = pd.read_csv(\"E:/data.csv\")\n",
    "data.info()"
   ]
  },
  {
   "cell_type": "code",
   "execution_count": 2,
   "metadata": {},
   "outputs": [],
   "source": [
    "#Extracting relevant columns\n",
    "data['date'] = pd.to_datetime(data['date'], format='%Y-%m-%d')\n",
    "data = data[['date', 'sales_amount', 'category', 'item_code']]\n",
    "data['category'] = data['category'].astype('category')\n",
    "data['item_code'] = data['item_code'].astype('category')\n",
    "category = data[['category','item_code']]"
   ]
  },
  {
   "cell_type": "markdown",
   "metadata": {},
   "source": [
    "# Item-wise Weekly Sales"
   ]
  },
  {
   "cell_type": "code",
   "execution_count": 3,
   "metadata": {},
   "outputs": [],
   "source": [
    "#Grouping data by weekly sales for each item code\n",
    "group = data.groupby([pd.Grouper(key='date',freq='W-MON'),'item_code']).agg({'sales_amount': ['sum']})\n",
    "group.columns = ['sales']\n",
    "group = group.reset_index()\n",
    "group['sales'].fillna(0, inplace=True)"
   ]
  },
  {
   "cell_type": "code",
   "execution_count": 4,
   "metadata": {},
   "outputs": [],
   "source": [
    "#Extracting category of each item code\n",
    "join = pd.merge(group,category,on='item_code',how='left')\n",
    "join['week_start']=join['date']- pd.to_timedelta(7, unit='d') #Calculating week end date\n",
    "df = join[['week_start','category','item_code','sales']] #Extracting relavnt columns\n",
    "df=df.drop_duplicates(keep='first')"
   ]
  },
  {
   "cell_type": "code",
   "execution_count": 5,
   "metadata": {},
   "outputs": [],
   "source": [
    "#Extracting entries for one category\n",
    "df = df[df['category'].str.match('category_name')]"
   ]
  },
  {
   "cell_type": "markdown",
   "metadata": {},
   "source": [
    "# Threshold as Coefficient of Variance"
   ]
  },
  {
   "cell_type": "code",
   "execution_count": 6,
   "metadata": {},
   "outputs": [],
   "source": [
    "#Calculating standard deviation for each item code based on weekly sales figures\n",
    "stdev = df.groupby(['item_code']).agg({'sales': ['std']})\n",
    "stdev.columns = ['stdev']\n",
    "stdev = stdev.reset_index()\n",
    "thold = pd.merge(df,stdev,on='item_code',how='left')\n",
    "thold = thold.drop_duplicates(keep='first')"
   ]
  },
  {
   "cell_type": "code",
   "execution_count": 7,
   "metadata": {},
   "outputs": [],
   "source": [
    "#Calculating mean for each item code based on weekly sales figures\n",
    "mean = df.groupby(['item_code']).agg({'sales': ['mean']})\n",
    "mean.columns = ['mean']\n",
    "mean = mean.reset_index()\n",
    "threshold = pd.merge(thold,mean,on='item_code',how='left')\n",
    "threshold=threshold.drop_duplicates(keep='first')"
   ]
  },
  {
   "cell_type": "code",
   "execution_count": null,
   "metadata": {},
   "outputs": [],
   "source": [
    "#Calculating coefficient of variation\n",
    "threshold['coeff_var']=threshold['stdev']/threshold['mean']\n",
    "\n",
    "#Extracting only those entries with coefficient of variation less than 4.5 and positive\n",
    "threshold = threshold[(threshold['coeff_var'] >0) & (threshold['coeff_var'] <4.5)]\n",
    "threshold.reset_index(drop=True)"
   ]
  }
 ],
 "metadata": {
  "kernelspec": {
   "display_name": "Python 3",
   "language": "python",
   "name": "python3"
  },
  "language_info": {
   "codemirror_mode": {
    "name": "ipython",
    "version": 3
   },
   "file_extension": ".py",
   "mimetype": "text/x-python",
   "name": "python",
   "nbconvert_exporter": "python",
   "pygments_lexer": "ipython3",
   "version": "3.7.4"
  }
 },
 "nbformat": 4,
 "nbformat_minor": 2
}
